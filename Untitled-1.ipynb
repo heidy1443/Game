{
 "cells": [
  {
   "cell_type": "code",
   "execution_count": null,
   "id": "9205e6e2",
   "metadata": {},
   "outputs": [
    {
     "name": "stdout",
     "output_type": "stream",
     "text": [
      "This is not a number!\n",
      "This is not a number!\n",
      "This is not a number!\n",
      "This is not a number!\n",
      "This is not a number!\n",
      "This is not a number!\n",
      "This is not a number!\n",
      "This is not a number!\n",
      "This is not a number!\n",
      "This is not a number!\n",
      "This is not a number!\n",
      "This is not a number!\n",
      "This is not a number!\n",
      "This is not a number!\n",
      "This is not a number!\n"
     ]
    }
   ],
   "source": [
    "import random\n",
    "x=random.randint(1,100)\n",
    "count=0\n",
    "while True:\n",
    "    try:\n",
    "        num = int(input(\"Guess a number from 1-100: \"))\n",
    "    except ValueError:\n",
    "        print(\"This is not a number!\")\n",
    "    continue\n",
    "    \n",
    "    count+=1\n",
    "    if num>x:\n",
    "          print(\"too much\")\n",
    "    elif num<x:\n",
    "        print(\"too less\")\n",
    "    else:\n",
    "         print(\"yeah, you got it!\")\n",
    "         print(\"you guessed\",count,\"times\")\n",
    "         break \n",
    "    if count==10:\n",
    "        print(\"Oh no,you guessed\",count,\"times\")\n",
    "        break\n",
    "   \n"
   ]
  }
 ],
 "metadata": {
  "kernelspec": {
   "display_name": "Python 3",
   "language": "python",
   "name": "python3"
  },
  "language_info": {
   "codemirror_mode": {
    "name": "ipython",
    "version": 3
   },
   "file_extension": ".py",
   "mimetype": "text/x-python",
   "name": "python",
   "nbconvert_exporter": "python",
   "pygments_lexer": "ipython3",
   "version": "3.13.5"
  }
 },
 "nbformat": 4,
 "nbformat_minor": 5
}
